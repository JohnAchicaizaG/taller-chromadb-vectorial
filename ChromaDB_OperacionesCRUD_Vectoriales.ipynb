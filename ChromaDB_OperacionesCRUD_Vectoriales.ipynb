{
 "cells": [
  {
   "cell_type": "markdown",
   "id": "48d1b6a3",
   "metadata": {},
   "source": [
    "# Taller 2 - Exploración de ChromaDB como Base de Datos Vectorial\n",
    "\n",
    "**Estudiante:** John Alexander Chicaiza  \n",
    "**Programa:** Especialización en Construcción de Software  \n",
    "**Universidad:** Universidad de Nariño  \n",
    "**Docente:** PhD. Oscar Ceballos  \n",
    "**Curso:** Bases de Datos Vectoriales  \n",
    "**Fecha:** Octubre 2025\n",
    "\n",
    "## Objetivos del Taller\n",
    "\n",
    "Este taller explora **ChromaDB** como alternativa a Pinecone, implementando todas las operaciones fundamentales de una base de datos vectorial:\n",
    "\n",
    "-  **Instalación y configuración** del sistema\n",
    "-  **Creación de colecciones** (equivalente a índices)\n",
    "-  **Inserción de vectores** con metadatos\n",
    "-  **Consultas de similitud** vectorial\n",
    "-  **Actualización** de vectores existentes\n",
    "-  **Eliminación** de vectores\n",
    "-  **Análisis comparativo** con otros motores vectoriales\n",
    "\n",
    "---\n",
    "\n",
    "## Instalación y Configuración de ChromaDB\n",
    "\n",
    "### Instalación con Docker Compose (Configuración del Proyecto)\n",
    "```bash\n",
    "# Iniciar ChromaDB con docker-compose\n",
    "docker-compose up -d\n",
    "\n",
    "# Verificar que el servicio esté corriendo\n",
    "docker-compose ps\n",
    "```\n",
    "\n",
    "El archivo `docker-compose.yml` incluido configura:\n",
    "- **Imagen:** `ghcr.io/chroma-core/chroma:latest`\n",
    "- **Puerto:** 8000 (mapeado a localhost)\n",
    "- **Persistencia:** Volumen `./chroma_data` montado\n",
    "- **CORS:** Habilitado para desarrollo\n",
    "- **Reset:** Permitido para pruebas\n",
    "\n",
    "### Configuración del Cliente Python\n",
    "- **Modo:** Cliente HTTP (servidor independiente)\n",
    "- **Host:** localhost\n",
    "- **Puerto:** 8000\n",
    "- **Persistencia:** Datos almacenados en `chroma_data/`"
   ]
  },
  {
   "cell_type": "markdown",
   "id": "33683b71",
   "metadata": {},
   "source": [
    "### Configuración del Entorno Virtual Python\n",
    "\n",
    "Para el desarrollo del taller se configuró un entorno virtual de Python con el fin de aislar las dependencias del proyecto y garantizar un entorno limpio y reproducible. \n",
    "\n",
    "**Pasos de configuración realizados:**\n",
    "\n",
    "```bash\n",
    "# 1. Crear el entorno virtual\n",
    "python3 -m venv chroma_env\n",
    "\n",
    "# 2. Activar el entorno virtual\n",
    "source chroma_env/bin/activate\n",
    "\n",
    "# 3. Actualizar el gestor de paquetes\n",
    "pip install --upgrade pip\n",
    "\n",
    "# 4. Instalar dependencias necesarias\n",
    "pip install jupyter chromadb\n",
    "\n",
    "# 5. Verificar instalación \n",
    "jupyter notebook  # O abrir directamente en VS Code\n",
    "```\n",
    "\n",
    "**Entornos de desarrollo utilizados:**\n",
    "- **Visual Studio Code**: Editor principal con extensión de Jupyter para notebooks\n",
    "- **Jupyter Notebook**: Entorno web alternativo para desarrollo interactivo\n",
    "- **Terminal integrada**: Para comandos Docker y gestión del entorno virtual\n",
    "\n",
    "**Estructura del entorno creado:**\n",
    "- `chroma_env/` - Directorio del entorno virtual\n",
    "- `chroma_env/bin/` - Ejecutables (Python, pip, jupyter)\n",
    "- `chroma_env/lib/` - Librerías instaladas (chromadb, jupyter, etc.)\n",
    "\n",
    "Este setup permite desarrollar y documentar paso a paso las operaciones CRUD y las consultas semánticas sobre ChromaDB desde un entorno local y controlado, utilizando tanto VS Code como Jupyter según la preferencia del momento.\n",
    "\n",
    "---"
   ]
  },
  {
   "cell_type": "markdown",
   "id": "71e07598",
   "metadata": {},
   "source": [
    "## 1. Conexión al Servidor ChromaDB\n",
    "\n",
    "**Explicación técnica:** ChromaDB puede ejecutarse en modo embebido o como servidor HTTP. Aquí usamos el modo servidor para simular un entorno de producción."
   ]
  },
  {
   "cell_type": "code",
   "execution_count": 24,
   "id": "36a1581f-1c31-49b4-9ab8-30a12dbb5777",
   "metadata": {},
   "outputs": [
    {
     "name": "stdout",
     "output_type": "stream",
     "text": [
      "✅ Conectado a Chroma en http://localhost:8000\n"
     ]
    }
   ],
   "source": [
    "import chromadb\n",
    "from chromadb.config import Settings\n",
    "\n",
    "client = chromadb.HttpClient(\n",
    "    host=\"localhost\",\n",
    "    port=8000,\n",
    "    settings=Settings(allow_reset=True)\n",
    ")\n",
    "print(\"✅ Conectado a Chroma en http://localhost:8000\")"
   ]
  },
  {
   "cell_type": "code",
   "execution_count": 25,
   "id": "dafad5b5-70fe-49fc-907f-b5767b66c67d",
   "metadata": {},
   "outputs": [
    {
     "name": "stdout",
     "output_type": "stream",
     "text": [
      "✅ Colección disponible: demo_vectores\n"
     ]
    }
   ],
   "source": [
    "collection = client.create_collection(name=\"demo_vectores\", get_or_create=True)\n",
    "print(\"✅ Colección disponible:\", collection.name)"
   ]
  },
  {
   "cell_type": "markdown",
   "id": "e0999a7d",
   "metadata": {},
   "source": [
    "## 2. Creación de Colección\n",
    "\n",
    "**Concepto:** En ChromaDB, una **colección** es equivalente a un **índice** en Pinecone. Agrupa vectores relacionados y define la función de distancia a utilizar."
   ]
  },
  {
   "cell_type": "code",
   "execution_count": 26,
   "id": "1e692bb1-589b-472f-83da-5911ab2e75cf",
   "metadata": {},
   "outputs": [
    {
     "name": "stdout",
     "output_type": "stream",
     "text": [
      "✅ Vectores insertados correctamente.\n"
     ]
    }
   ],
   "source": [
    "collection.add(\n",
    "    ids=[\"v1\", \"v2\", \"v3\"],\n",
    "    embeddings=[\n",
    "        [0.1, 0.2, 0.3],\n",
    "        [0.4, 0.5, 0.6],\n",
    "        [0.9, 0.8, 0.7]\n",
    "    ],\n",
    "    metadatas=[\n",
    "        {\"nombre\": \"vector 1\"},\n",
    "        {\"nombre\": \"vector 2\"},\n",
    "        {\"nombre\": \"vector 3\"}\n",
    "    ]\n",
    ")\n",
    "print(\"✅ Vectores insertados correctamente.\")"
   ]
  },
  {
   "cell_type": "markdown",
   "id": "f6bc49e3",
   "metadata": {},
   "source": [
    "##  3. Inserción de Vectores (CREATE)\n",
    "\n",
    "**Operación fundamental:** Insertamos vectores de 3 dimensiones con sus metadatos asociados. ChromaDB automáticamente calcula y almacena las representaciones optimizadas para búsqueda."
   ]
  },
  {
   "cell_type": "code",
   "execution_count": 27,
   "id": "6592ab2a-c225-401f-81f9-1b23a6f48764",
   "metadata": {},
   "outputs": [
    {
     "name": "stdout",
     "output_type": "stream",
     "text": [
      "🔎 Resultados de la consulta:\n",
      "{'ids': [['v1', 'v2']], 'distances': [[0.002500001, 0.3025]], 'embeddings': None, 'metadatas': [[{'nombre': 'vector 1'}, {'nombre': 'vector 2'}]], 'documents': None, 'uris': None, 'data': None, 'included': ['distances', 'metadatas']}\n"
     ]
    }
   ],
   "source": [
    "result = collection.query(\n",
    "    query_embeddings=[[0.1, 0.2, 0.25]],\n",
    "    n_results=2,\n",
    "    include=[\"distances\", \"metadatas\"]\n",
    ")\n",
    "print(\"🔎 Resultados de la consulta:\")\n",
    "print(result)"
   ]
  },
  {
   "cell_type": "markdown",
   "id": "01932ff4",
   "metadata": {},
   "source": [
    "## 4. Consulta de Similitud (READ)\n",
    "\n",
    "**Búsqueda vectorial:** Utilizamos un vector de consulta `[0.1, 0.2, 0.25]` para encontrar los 2 vectores más similares. ChromaDB usa **distancia coseno** por defecto."
   ]
  },
  {
   "cell_type": "code",
   "execution_count": 28,
   "id": "6742dc66-1ca7-40e3-81c5-77c243e56b39",
   "metadata": {},
   "outputs": [
    {
     "name": "stdout",
     "output_type": "stream",
     "text": [
      "✅ Vector v1 actualizado.\n"
     ]
    }
   ],
   "source": [
    "collection.update(\n",
    "    ids=[\"v1\"],\n",
    "    embeddings=[[0.2, 0.2, 0.2]],\n",
    "    metadatas=[{\"nombre\": \"vector 1 (actualizado)\"}]\n",
    ")\n",
    "print(\"✅ Vector v1 actualizado.\")"
   ]
  },
  {
   "cell_type": "markdown",
   "id": "1ab4497d",
   "metadata": {},
   "source": [
    "##  5. Actualización de Vectores (UPDATE)\n",
    "\n",
    "**Modificación en sitio:** ChromaDB permite actualizar tanto el embedding como los metadatos de vectores existentes usando su ID único."
   ]
  },
  {
   "cell_type": "code",
   "execution_count": 29,
   "id": "7a25b41f-3531-4998-a5f8-1be2d509dd92",
   "metadata": {},
   "outputs": [
    {
     "name": "stdout",
     "output_type": "stream",
     "text": [
      "🗑️ Vector v3 eliminado.\n"
     ]
    }
   ],
   "source": [
    "collection.delete(ids=[\"v3\"])\n",
    "print(\"🗑️ Vector v3 eliminado.\")"
   ]
  },
  {
   "cell_type": "markdown",
   "id": "741bc163",
   "metadata": {},
   "source": [
    "##  6. Eliminación de Vectores (DELETE)\n",
    "\n",
    "**Limpieza de datos:** Eliminamos vectores específicos por ID. Esta operación es irreversible y libera espacio en el índice."
   ]
  },
  {
   "cell_type": "code",
   "execution_count": 30,
   "id": "ec4d9dc2-e8f1-4daf-840c-23fc45211725",
   "metadata": {},
   "outputs": [
    {
     "name": "stdout",
     "output_type": "stream",
     "text": [
      "Colecciones actuales: ['demo_vectores']\n"
     ]
    }
   ],
   "source": [
    "print(\"Colecciones actuales:\", [c.name for c in client.list_collections()])"
   ]
  },
  {
   "cell_type": "code",
   "execution_count": 31,
   "id": "3b63bf96-4cca-4157-beba-8f05b94a61cc",
   "metadata": {},
   "outputs": [
    {
     "name": "stdout",
     "output_type": "stream",
     "text": [
      "📘 Información de la colección:\n",
      "{'ids': ['v1', 'v2'], 'embeddings': None, 'metadatas': [{'nombre': 'vector 1 (actualizado)'}, {'nombre': 'vector 2'}], 'documents': [None, None], 'data': None, 'uris': None, 'included': ['metadatas', 'documents']}\n"
     ]
    }
   ],
   "source": [
    "info = collection.get()\n",
    "print(\"📘 Información de la colección:\")\n",
    "print(info)"
   ]
  },
  {
   "cell_type": "markdown",
   "id": "b54a31cd",
   "metadata": {},
   "source": [
    "## Análisis Comparativo: ChromaDB vs Otras Bases de Datos Vectoriales\n",
    "\n",
    "### ChromaDB vs Pinecone vs Milvus vs Weaviate vs FAISS\n",
    "\n",
    "| Característica | ChromaDB | Pinecone | Milvus | Weaviate | FAISS |\n",
    "|----------------|----------|----------|---------|----------|-------|\n",
    "| **Tipo** | Open Source | SaaS | Open Source | Open Source | Biblioteca |\n",
    "| **Instalación** |  Simple |  Solo nube |  Compleja | Media |  Pip install |\n",
    "| **Escalabilidad** |  Media |  Alta |  Alta |  Alta |  Local |\n",
    "| **Costo** |  Gratis |  Pago |  Gratis |  Gratis |  Gratis |\n",
    "| **Metadatos** |  Nativo |  Nativo |  Nativo |  Avanzado |  Manual |\n",
    "| **APIs** | Python, REST | Python, REST | Python, Go, Java | Python, GraphQL | Python |\n",
    "| **Persistencia** |  SQLite/DuckDB |  Nativa |  Configurable |  Múltiples |  RAM |"
   ]
  },
  {
   "cell_type": "markdown",
   "id": "836a0dc8",
   "metadata": {},
   "source": [
    "### Ventajas Específicas de ChromaDB\n",
    "\n",
    "1. **Simplicidad de Uso**: API intuitiva y instalación directa\n",
    "2. **Desarrollo Local**: Perfecto para prototipado y desarrollo\n",
    "3. **Múltiples Modos**: Embebido, cliente-servidor, persistente\n",
    "4. **Sin Vendor Lock-in**: Open source completo\n",
    "5. **Integración Python**: Diseñado específicamente para el ecosistema Python/ML\n",
    "\n",
    "### Limitaciones Identificadas\n",
    "\n",
    "1. **Escalabilidad**: Menos optimizado para millones de vectores\n",
    "2. **Algoritmos**: Menos opciones de índices que Milvus\n",
    "3. **Ecosistema**: Menor integración con herramientas empresariales\n",
    "4. **Consultas Complejas**: Menos expresivo que Weaviate con GraphQL\n",
    "\n",
    "---\n",
    "\n",
    "## Conclusiones del Taller\n",
    "\n",
    "###  Objetivos Cumplidos\n",
    "\n",
    "-  **Instalación exitosa** de ChromaDB en modo servidor\n",
    "-  **Configuración completa** del cliente HTTP\n",
    "-  **Implementación de CRUD** completo para vectores\n",
    "-  **Verificación de operaciones** con evidencias\n",
    "-  **Análisis comparativo** con otras soluciones\n",
    "\n",
    "###  Observaciones Técnicas\n",
    "\n",
    "1. **ChromaDB es ideal para**:\n",
    "   - Proyectos de investigación y prototipado\n",
    "   - Aplicaciones Python-first\n",
    "   - Desarrollos que requieren control total del stack\n",
    "\n",
    "2. **Diferencias conceptuales clave**:\n",
    "   - **Colecciones** vs **Índices** (terminología)\n",
    "   - **Distancia coseno** por defecto vs configuración explícita\n",
    "   - **Metadatos integrados** vs sistemas separados\n",
    "\n",
    "###  Caso de Uso Recomendado\n",
    "\n",
    "ChromaDB es perfecto para **MVPs**, **investigación académica** y **aplicaciones medianas** donde se valora más la simplicidad y control que la escala extrema.\n",
    "\n",
    "---\n",
    "\n",
    "**  Archivos del Entregable:**\n",
    "- `ChromaDB_OperacionesCRUD_Vectoriales.ipynb` - Notebook con implementación completa\n",
    "- `docker-compose.yml` - Configuración de infraestructura  \n",
    "- `chroma_data/` - Datos persistentes de ChromaDB"
   ]
  }
 ],
 "metadata": {
  "kernelspec": {
   "display_name": "chroma_env",
   "language": "python",
   "name": "python3"
  },
  "language_info": {
   "codemirror_mode": {
    "name": "ipython",
    "version": 3
   },
   "file_extension": ".py",
   "mimetype": "text/x-python",
   "name": "python",
   "nbconvert_exporter": "python",
   "pygments_lexer": "ipython3",
   "version": "3.9.6"
  }
 },
 "nbformat": 4,
 "nbformat_minor": 5
}
